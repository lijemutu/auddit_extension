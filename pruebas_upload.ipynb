{
 "metadata": {
  "language_info": {
   "codemirror_mode": {
    "name": "ipython",
    "version": 3
   },
   "file_extension": ".py",
   "mimetype": "text/x-python",
   "name": "python",
   "nbconvert_exporter": "python",
   "pygments_lexer": "ipython3",
   "version": "3.8.5"
  },
  "orig_nbformat": 2,
  "kernelspec": {
   "name": "python385jvsc74a57bd08bae3223d1e16f869cc03ff8f2fb78c455e787ce6d9984a9c10b13dc336334d7",
   "display_name": "Python 3.8.5 64-bit ('tiktoksVideos': virtualenvwrapper)"
  }
 },
 "nbformat": 4,
 "nbformat_minor": 2,
 "cells": [
  {
   "cell_type": "code",
   "execution_count": 23,
   "metadata": {},
   "outputs": [],
   "source": [
    "from selenium import webdriver\n",
    "from selenium.webdriver.common.keys import Keys\n",
    "from selenium.webdriver.common.by import By\n",
    "from selenium.webdriver.support.ui import WebDriverWait\n",
    "from selenium.webdriver.support import expected_conditions as EC\n",
    "from selenium.common.exceptions import NoSuchElementException\n",
    "from selenium.common.exceptions import StaleElementReferenceException\n",
    "import pyautogui,time,random,os\n",
    "\n",
    "\n",
    "\n",
    "class  facebookVideoUpload:\n",
    "        def __init__(self) -> None:\n",
    "                self.driver = webdriver.Firefox(executable_path=\"bin/geckodriver.exe\")\n",
    "                self.driver.get(\"https://business.facebook.com/creatorstudio/home\")\n",
    "                self.login_button =self.locateElement(\"/html/body/div/div[1]/div[2]/div/div[2]/div/div/div/div[2]/div/div\")\n",
    "                self.login_button.click()\n",
    "        def locateElement(self,xpath):\n",
    "                try:\n",
    "                        element = WebDriverWait(self.driver,10).until(EC.element_to_be_clickable((By.XPATH,xpath)))\n",
    "                except:\n",
    "                        raise Exception(f\"Button not found on Xpath: {xpath}\")\n",
    "                return element\n",
    "\n",
    "        def locateElements(self,xpath):\n",
    "                ignored_exceptions=(NoSuchElementException,StaleElementReferenceException)\n",
    "                try:\n",
    "                        elements = WebDriverWait(self.driver,10,ignored_exceptions=ignored_exceptions).until(EC.presence_of_all_elements_located((By.XPATH,xpath)))\n",
    "                except:\n",
    "                        raise Exception(f\"Buttons not found on Xpath: {xpath}\")\n",
    "                return elements\n",
    "        def locateElementCSS(self,css):\n",
    "                try:\n",
    "                        element = WebDriverWait(self.driver,25).until(EC.presence_of_element_located((By.CSS_SELECTOR,css)))\n",
    "                except:\n",
    "                        raise Exception(f\"Button not found on CSS selector: {css}\")\n",
    "                return element\n",
    "\n",
    "        def locateElementsCSS(self,css):\n",
    "                ignored_exceptions=(NoSuchElementException,StaleElementReferenceException)\n",
    "                try:\n",
    "                        elements = WebDriverWait(self.driver,10,ignored_exceptions=ignored_exceptions).until(EC.presence_of_all_elements_located((By.CSS_SELECTOR,css)))\n",
    "                except:\n",
    "                        raise Exception(f\"Buttons not found on Xpath: {xpath}\")\n",
    "                return elements\n",
    "        def checkText(self,xpath,text):\n",
    "                try:\n",
    "                        WebDriverWait(self.driver,20).until(EC.text_to_be_present_in_element((By.XPATH,xpath),text))\n",
    "                except:\n",
    "                        raise Exception(f\"Text not found on Xpath: {xpath}\")\n",
    "                \n",
    "\n",
    "        def login(self,email,password):\n",
    "                self.email_button = self.locateElement(\"//*[@id=\\\"email\\\"]\")\n",
    "                self.password_button = self.locateElement(\"//*[@id=\\\"pass\\\"]\")\n",
    "                self.email_button.send_keys(email)\n",
    "                self.password_button.send_keys(password)\n",
    "                self.send_credentials = self.locateElement(\"//*[@id=\\\"loginbutton\\\"]\")\n",
    "                self.send_credentials.click()\n",
    "\n",
    "        def startUpload(self,videopath,pageName):\n",
    "\n",
    "                try:\n",
    "                        upload_single_video = self.locateElementCSS(\"input[accept='video/*, video/x-m4v, video/webm, video/x-ms-wmv, video/x-msvideo, video/3gpp, video/flv, video/x-flv, video/mp4, video/quicktime, video/mpeg, video/ogv, .ts, .mkv'][type='file']\")\n",
    "                        upload_single_video.send_keys(videopath)\n",
    "\n",
    "                except:\n",
    "                        raise Exception(\"css uploader selector changed!! or video not found\")\n",
    "\n",
    "                self.pages_list = self.locateElements(\"/html/body/div[4]/div/div/div/div[1]/div/div[2]/div/div[2]/div/*\")\n",
    "\n",
    "\n",
    "                for page in self.pages_list:\n",
    "                        if page.text == pageName:\n",
    "                                page.click()\n",
    "                                break\n",
    "        def title_description_tags(self,title,description,tags):\n",
    "                \n",
    "                self.title_text = self.locateElementCSS(\"input[type='text'][placeholder='Add a title for your video here...']\")\n",
    "                # TODO ESTE DE ABAJO SI ES, .notranslate > div:nth-child(1) ESTE ES SU SELECTOR CSS Y EL HTML div data-contents = 'true'\n",
    "                self.description_text = self.locateElementCSS(\".notranslate\")\n",
    "                                                           \n",
    "                                                            \n",
    "                self.tags_text = self.locateElementCSS(\"input[aria-label='Add keywords to help people find your video']\")\n",
    "                \n",
    "                self.title_text.send_keys(title)\n",
    "                self.description_text.send_keys(description)\n",
    "                for tag in tags:\n",
    "                        self.tags_text.send_keys(tag)\n",
    "                        time.sleep(2)\n",
    "                        self.tags_text.send_keys(Keys.ARROW_UP)\n",
    "                        self.tags_text.send_keys(Keys.RETURN)\n",
    "                        time.sleep(2)\n",
    "        def addThumbnail(self,thumbnailPath):\n",
    "\n",
    "                thumbnailButtonChildren = self.locateElementCSS(\"div[loadingindicatorstyle='none'][style='width: 128px; height: 72px;']\")\n",
    "                thumbnailButton =  WebDriverWait(thumbnailButtonChildren,10).until(EC.element_to_be_clickable((By.XPATH,'..')))\n",
    "                thumbnailButton.click()\n",
    "                try:\n",
    "                        upload_single_video = self.locateElementCSS(\"input[accept='.png,.jpg,.jpeg'][type='file']\")\n",
    "    \n",
    "                        upload_single_video.send_keys(thumbnailPath)\n",
    "\n",
    "                except:\n",
    "                        raise Exception(\"css thumbnail selector changed!! or thumbnail not found\")\n",
    "\n",
    "\n",
    "        def publishVideo(self,publishNow=True,date=None,playlistName=''):\n",
    "\n",
    "                self.publishOptions = self.locateElement(\"//div[contains(text(), '2. Publishing Options')]\")\n",
    "                self.publishOptions.click()\n",
    "\n",
    "                self.publishNowButton = self.locateElement(\"//div[contains(text(), 'Publish now')]\")\n",
    "                self.schedule = self.locateElement(\"//div[contains(text(), 'Schedule')]\")\n",
    "\n",
    "                if publishNow == True:\n",
    "                        self.publishNowButton.click()\n",
    "                        self.playlist = self.locateElement(\"//span[contains(text(), 'Choose playlist(s)')]\")\n",
    "                        self.playlist.click()\n",
    "                        try:\n",
    "                                self.playlistSelect = self.locateElement(f\"//div[contains(text(), '{playlistName}')]\")\n",
    "                        except:\n",
    "                                raise Exception(\"Playlist not found\")\n",
    "                        self.playlistSelect.click()\n",
    "                        \n",
    "                        self.publishButton = self.locateElement(\"//div[contains(text(), 'Publish') and not(contains(text(), 'You') or contains(text(), 'now') or contains(text(), 'Options'))]\")\n",
    "                        while True:\n",
    "\n",
    "                                try:\n",
    "                                        self.uploadBar = self.locateElement(\"//div[contains(text(), 'Video Uploaded')]\")\n",
    "                                        self.publishButton.click()\n",
    "                                        time.sleep(3.5)\n",
    "                                        self.driver.close()\n",
    "                                        break\n",
    "                                except:\n",
    "                                        time.sleep(2)\n",
    " "
   ]
  },
  {
   "cell_type": "code",
   "execution_count": 24,
   "metadata": {},
   "outputs": [],
   "source": [
    "\n",
    "uploader = facebookVideoUpload()\n",
    "uploader.login(\"erick_kamyla@hotmail.com\",\"unavacavestidadeuniforme\")\n",
    "pageName = \"Reddit videos\"\n",
    "uploader.startUpload(os.getcwd()+\"\\\\\"+r\"test\\test_videos\\caption.mp4\",pageName)\n",
    "\n",
    "#upload_video_button = uploader.locateElement(\"/html/body/div[1]/div[1]/div/div[2]/div/div/div[2]/div[2]/div[2]/div/div/div[1]/div/div/div/div[1]/div[2]/div[3]/div/div[1]/div\")\n",
    "#upload_video_button.click()\n",
    "\n",
    "#upload_single_video = uploader.locateElement(\"/html/body/div[1]/div[1]/div/div[2]/div[2]/div/div/div/div/div/div[1]/div/div/ul/li[1]\")\n",
    "                                              \n",
    "#randomDescription = random.choice(context['page']['description'])\n",
    "#if context['page']['thumbnail'] == True:\n",
    "#        uploader.title_description_tags(title=context['post'].title,description=randomDescription,tags=context['page']['tags'])\n",
    "#        uploader.addThumbnail(context[\"thumbnail_path\"])\n",
    "#else:\n",
    "#        uploader.title_description_tags(title=\"No creeras lo que pasó!\",description=randomDescription,tags=context['page']['tags']) \n",
    "#uploader.publishVideo()"
   ]
  },
  {
   "cell_type": "code",
   "execution_count": 25,
   "metadata": {},
   "outputs": [],
   "source": [
    "uploader.title_text = uploader.locateElementCSS(\"input[type='text'][placeholder='Add a title for your video here...']\")\n",
    "uploader.title_text.send_keys(\"Este es un texto de prueba\")"
   ]
  },
  {
   "cell_type": "code",
   "execution_count": 26,
   "metadata": {},
   "outputs": [],
   "source": [
    "desc = uploader.locateElementCSS(\".notranslate\")\n",
    "desc.send_keys(\"Descripción de prueba\")"
   ]
  },
  {
   "cell_type": "code",
   "execution_count": 27,
   "metadata": {},
   "outputs": [],
   "source": [
    "tags = uploader.locateElementCSS(\"input[aria-label='Add keywords to help people find your video']\")\n",
    "tags.send_keys(['tag','perro'])"
   ]
  },
  {
   "cell_type": "code",
   "execution_count": 28,
   "metadata": {},
   "outputs": [],
   "source": [
    "thumbnailButtonChildren = uploader.locateElementCSS(\"div[loadingindicatorstyle='none'][style='width: 128px; height: 72px;']\")\n",
    "thumbnailButton =  WebDriverWait(thumbnailButtonChildren,10).until(EC.element_to_be_clickable((By.XPATH,'..')))\n",
    "thumbnailButton.click()"
   ]
  },
  {
   "cell_type": "code",
   "execution_count": 29,
   "metadata": {},
   "outputs": [],
   "source": [
    "publishOptionsButton = uploader.locateElement(\"//div[contains(text(), '2. Publishing Options')]\")"
   ]
  },
  {
   "cell_type": "code",
   "execution_count": 30,
   "metadata": {},
   "outputs": [],
   "source": [
    "publishOptionsButton.click()"
   ]
  },
  {
   "cell_type": "code",
   "execution_count": 31,
   "metadata": {},
   "outputs": [],
   "source": [
    "publishNowButton = uploader.locateElement(\"//div[contains(text(), 'Publish now')]\")\n",
    "publishNowButton.click()"
   ]
  },
  {
   "cell_type": "code",
   "execution_count": 32,
   "metadata": {},
   "outputs": [],
   "source": [
    "playlist = uploader.locateElement(\"//span[contains(text(), 'Choose playlist(s)')]\")\n",
    "playlist.click()"
   ]
  },
  {
   "cell_type": "code",
   "execution_count": 34,
   "metadata": {},
   "outputs": [],
   "source": [
    "playlistSelect = uploader.locateElement(\"//div[contains(text(), 'Videos')]\")\n",
    "playlistSelect.click()"
   ]
  },
  {
   "cell_type": "code",
   "execution_count": 35,
   "metadata": {},
   "outputs": [],
   "source": [
    "uploaderBar = uploader.locateElement(\"//div[contains(text(), 'Video Uploaded')]\")"
   ]
  },
  {
   "cell_type": "code",
   "execution_count": 36,
   "metadata": {},
   "outputs": [
    {
     "output_type": "execute_result",
     "data": {
      "text/plain": [
       "'Video Uploaded'"
      ]
     },
     "metadata": {},
     "execution_count": 36
    }
   ],
   "source": [
    "uploaderBar.text"
   ]
  },
  {
   "cell_type": "code",
   "execution_count": 47,
   "metadata": {},
   "outputs": [],
   "source": [
    "publishButton = uploader.locateElement(\"//div[contains(text(), 'Publish') and not(contains(text(), 'You') or contains(text(), 'now') or contains(text(), 'Options'))]\")\n",
    "publishButton.click()"
   ]
  },
  {
   "cell_type": "code",
   "execution_count": null,
   "metadata": {},
   "outputs": [],
   "source": []
  }
 ]
}