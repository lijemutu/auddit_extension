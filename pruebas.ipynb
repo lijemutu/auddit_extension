{
 "metadata": {
  "language_info": {
   "codemirror_mode": {
    "name": "ipython",
    "version": 3
   },
   "file_extension": ".py",
   "mimetype": "text/x-python",
   "name": "python",
   "nbconvert_exporter": "python",
   "pygments_lexer": "ipython3",
   "version": "3.8.5-final"
  },
  "orig_nbformat": 2,
  "kernelspec": {
   "name": "python3",
   "display_name": "Python 3",
   "language": "python"
  }
 },
 "nbformat": 4,
 "nbformat_minor": 2,
 "cells": [
  {
   "cell_type": "code",
   "execution_count": 5,
   "metadata": {},
   "outputs": [
    {
     "output_type": "stream",
     "name": "stdout",
     "text": [
      "assets/reddit aliens/g_0(7).png\n"
     ]
    }
   ],
   "source": [
    "import os,random\n",
    "path = 'assets/reddit aliens/'\n",
    "path += random.choice(os.listdir('assets/reddit aliens'))\n",
    "#path += random.choice([x for x in os.listdir('assets/reddit aliens') if os.path.isfile(os.path.join('assets/reddit aliens', x))])\n",
    "\n",
    "print(path)"
   ]
  },
  {
   "cell_type": "code",
   "execution_count": 1,
   "metadata": {},
   "outputs": [
    {
     "output_type": "execute_result",
     "data": {
      "text/plain": [
       "['Arial',\n",
       " 'Arial-Black',\n",
       " 'Arial-Bold',\n",
       " 'Arial-Bold-Italic',\n",
       " 'Arial-Italic',\n",
       " 'Bahnschrift',\n",
       " 'Calibri',\n",
       " 'Calibri-Bold',\n",
       " 'Calibri-Bold-Italic',\n",
       " 'Calibri-Italic',\n",
       " 'Calibri-Light',\n",
       " 'Calibri-Light-Italic',\n",
       " 'Cambria-&-Cambria-Math',\n",
       " 'Cambria-Bold',\n",
       " 'Cambria-Bold-Italic',\n",
       " 'Cambria-Italic',\n",
       " 'Candara',\n",
       " 'Candara-Bold',\n",
       " 'Candara-Bold-Italic',\n",
       " 'Candara-Italic',\n",
       " 'Candara-Light',\n",
       " 'Candara-Light-Italic',\n",
       " 'Comic-Sans-MS',\n",
       " 'Comic-Sans-MS-Bold',\n",
       " 'Comic-Sans-MS-Bold-Italic',\n",
       " 'Comic-Sans-MS-Italic',\n",
       " 'Consolas',\n",
       " 'Consolas-Bold',\n",
       " 'Consolas-Bold-Italic',\n",
       " 'Consolas-Italic',\n",
       " 'Constantia',\n",
       " 'Constantia-Bold',\n",
       " 'Constantia-Bold-Italic',\n",
       " 'Constantia-Italic',\n",
       " 'Corbel',\n",
       " 'Corbel-Bold',\n",
       " 'Corbel-Bold-Italic',\n",
       " 'Corbel-Italic',\n",
       " 'Corbel-Light',\n",
       " 'Corbel-Light-Italic',\n",
       " 'Courier-New',\n",
       " 'Courier-New-Bold',\n",
       " 'Courier-New-Bold-Italic',\n",
       " 'Courier-New-Italic',\n",
       " 'Ebrima',\n",
       " 'Ebrima-Bold',\n",
       " 'Franklin-Gothic-Medium',\n",
       " 'Franklin-Gothic-Medium-Italic',\n",
       " 'Gabriola',\n",
       " 'Gadugi',\n",
       " 'Gadugi-Bold',\n",
       " 'Georgia',\n",
       " 'Georgia-Bold',\n",
       " 'Georgia-Bold-Italic',\n",
       " 'Georgia-Italic',\n",
       " 'Holo-MDL2-Assets',\n",
       " 'Impact',\n",
       " 'Ink-Free',\n",
       " 'Javanese-Text',\n",
       " 'Leelawadee-UI',\n",
       " 'Leelawadee-UI-Bold',\n",
       " 'Leelawadee-UI-Semilight',\n",
       " 'Lucida-Console',\n",
       " 'Lucida-Sans-Unicode',\n",
       " 'Malgun-Gothic',\n",
       " 'Malgun-Gothic-Bold',\n",
       " 'Malgun-Gothic-SemiLight',\n",
       " 'Microsoft-Himalaya',\n",
       " 'Microsoft-JhengHei-&-Microsoft-JhengHei-UI',\n",
       " 'Microsoft-JhengHei-Bold-&-Microsoft-JhengHei-UI-Bold',\n",
       " 'Microsoft-JhengHei-Light-&-Microsoft-JhengHei-UI-Light',\n",
       " 'Microsoft-New-Tai-Lue',\n",
       " 'Microsoft-New-Tai-Lue-Bold',\n",
       " 'Microsoft-PhagsPa',\n",
       " 'Microsoft-PhagsPa-Bold',\n",
       " 'Microsoft-Sans-Serif',\n",
       " 'Microsoft-Tai-Le',\n",
       " 'Microsoft-Tai-Le-Bold',\n",
       " 'Microsoft-YaHei-&-Microsoft-YaHei-UI',\n",
       " 'Microsoft-YaHei-Bold-&-Microsoft-YaHei-UI-Bold',\n",
       " 'Microsoft-YaHei-Light-&-Microsoft-YaHei-UI-Light',\n",
       " 'Microsoft-Yi-Baiti',\n",
       " 'MingLiU-ExtB-&-PMingLiU-ExtB-&-MingLiU_HKSCS-ExtB',\n",
       " 'Mongolian-Baiti',\n",
       " 'MS-Gothic-&-MS-UI-Gothic-&-MS-PGothic',\n",
       " 'MV-Boli',\n",
       " 'Myanmar-Text',\n",
       " 'Myanmar-Text-Bold',\n",
       " 'Nirmala-UI',\n",
       " 'Nirmala-UI-Bold',\n",
       " 'Nirmala-UI-Semilight',\n",
       " 'Palatino-Linotype',\n",
       " 'Palatino-Linotype-Bold',\n",
       " 'Palatino-Linotype-Bold-Italic',\n",
       " 'Palatino-Linotype-Italic',\n",
       " 'Segoe-MDL2-Assets',\n",
       " 'Segoe-Print',\n",
       " 'Segoe-Print-Bold',\n",
       " 'Segoe-Script',\n",
       " 'Segoe-Script-Bold',\n",
       " 'Segoe-UI',\n",
       " 'Segoe-UI-Black',\n",
       " 'Segoe-UI-Black-Italic',\n",
       " 'Segoe-UI-Bold',\n",
       " 'Segoe-UI-Bold-Italic',\n",
       " 'Segoe-UI-Emoji',\n",
       " 'Segoe-UI-Historic',\n",
       " 'Segoe-UI-Italic',\n",
       " 'Segoe-UI-Light',\n",
       " 'Segoe-UI-Light-Italic',\n",
       " 'Segoe-UI-Semibold',\n",
       " 'Segoe-UI-Semibold-Italic',\n",
       " 'Segoe-UI-Semilight',\n",
       " 'Segoe-UI-Semilight-Italic',\n",
       " 'Segoe-UI-Symbol',\n",
       " 'SimSun-&-NSimSun',\n",
       " 'SimSun-ExtB',\n",
       " 'Sitka-Small-&-Sitka-Text-&-Sitka-Subheading-&-Sitka-Heading-&-Sitka-Display-&-Sitka-Banner',\n",
       " 'Sitka-Small-Bold-&-Sitka-Text-Bold-&-Sitka-Subheading-Bold-&-Sitka-Heading-Bold-&-Sitka-Display-Bold-&-Sitka-Banner-Bold',\n",
       " 'Sitka-Small-Bold-Italic-&-Sitka-Text-Bold-Italic-&-Sitka-Subheading-Bold-Italic-&-Sitka-Heading-Bold-Italic-&-Sitka-Display-Bold-Italic-&-Sitka-Banner-Bold-Italic',\n",
       " 'Sitka-Small-Italic-&-Sitka-Text-Italic-&-Sitka-Subheading-Italic-&-Sitka-Heading-Italic-&-Sitka-Display-Italic-&-Sitka-Banner-Italic',\n",
       " 'SWGamekeys-MT',\n",
       " 'Sylfaen',\n",
       " 'Symbol',\n",
       " 'Tahoma',\n",
       " 'Tahoma-Bold',\n",
       " 'TeamViewer15',\n",
       " 'Times-New-Roman',\n",
       " 'Times-New-Roman-Bold',\n",
       " 'Times-New-Roman-Bold-Italic',\n",
       " 'Times-New-Roman-Italic',\n",
       " 'Trebuchet-MS',\n",
       " 'Trebuchet-MS-Bold',\n",
       " 'Trebuchet-MS-Bold-Italic',\n",
       " 'Trebuchet-MS-Italic',\n",
       " 'Verdana',\n",
       " 'Verdana-Bold',\n",
       " 'Verdana-Bold-Italic',\n",
       " 'Verdana-Italic',\n",
       " 'Webdings',\n",
       " 'Wingdings',\n",
       " 'Yu-Gothic-Bold-&-Yu-Gothic-UI-Semibold-&-Yu-Gothic-UI-Bold',\n",
       " 'Yu-Gothic-Light-&-Yu-Gothic-UI-Light',\n",
       " 'Yu-Gothic-Medium-&-Yu-Gothic-UI-Regular',\n",
       " 'Yu-Gothic-Regular-&-Yu-Gothic-UI-Semilight']"
      ]
     },
     "metadata": {},
     "execution_count": 1
    }
   ],
   "source": [
    "from moviepy.editor import *\n",
    "TextClip.list('font')"
   ]
  },
  {
   "cell_type": "code",
   "execution_count": 1,
   "metadata": {},
   "outputs": [],
   "source": [
    "import json,os\n",
    "folderDoc = 'doc/'\n",
    "preguntasRedditMexico = {}\n",
    "preguntasRedditMexico['Nombre'] = 'Preguntas Reddit México'\n",
    "preguntasRedditMexico['location'] = 'doc/preguntas_reddit_mex.json'\n",
    "preguntasRedditMexico['logo'] = 'assets/logo/preguntas_reddit_mex.png'\n",
    "preguntasRedditMexico['background'] = 'assets/background/fondo_reddit_mex.png'\n",
    "preguntasRedditMexico['used_post'] = []\n",
    "\n",
    "preguntasRedditMexico = json.dumps(preguntasRedditMexico)\n",
    "with open('doc/preguntas_reddit_mex.json','w') as f:\n",
    "    f.write(preguntasRedditMexico)\n",
    "\n"
   ]
  },
  {
   "cell_type": "code",
   "execution_count": 2,
   "metadata": {},
   "outputs": [],
   "source": [
    "redditVideos = {}\n",
    "redditVideos['Nombre'] = 'Reddit videos'\n",
    "redditVideos['location'] = 'doc/redditVideos.json'\n",
    "redditVideos['logo'] = 'assets/logo/RV.png'\n",
    "redditVideos['background'] = 'assets/background/black.png'\n",
    "redditVideos['used_post'] = []\n",
    "\n",
    "redditVideos = json.dumps(redditVideos)\n",
    "with open('doc/redditVideos.json','w') as f:\n",
    "    f.write(redditVideos)"
   ]
  },
  {
   "cell_type": "code",
   "execution_count": 3,
   "metadata": {},
   "outputs": [],
   "source": [
    "next_level_videos = {}\n",
    "next_level_videos['Nombre'] = 'Next level videos'\n",
    "next_level_videos['location'] = 'doc/next_level_videos.json'\n",
    "next_level_videos['logo'] = 'assets/logo/NL.png'\n",
    "next_level_videos['background'] = 'assets/background/black.png'\n",
    "\n",
    "next_level_videos['used_post'] = []\n",
    "next_level_videos = json.dumps(next_level_videos)\n",
    "with open('doc/next_level_videos.json','w') as f:\n",
    "    f.write(next_level_videos)"
   ]
  },
  {
   "cell_type": "code",
   "execution_count": 4,
   "metadata": {},
   "outputs": [],
   "source": [
    "eli5 = {}\n",
    "eli5['Nombre'] = 'Explica como si tuviera 5'\n",
    "eli5['location'] = 'doc/eli5.json'\n",
    "eli5['logo'] = 'assets/logo/eli5.png'\n",
    "eli5['background'] = 'assets/background/black.png'\n",
    "\n",
    "eli5['used_post'] = []\n",
    "eli5 = json.dumps(eli5)\n",
    "with open('doc/eli5.json','w') as f:\n",
    "    f.write(eli5)"
   ]
  },
  {
   "cell_type": "code",
   "execution_count": 2,
   "metadata": {},
   "outputs": [],
   "source": [
    "preguntasRedditColombia = {}\n",
    "preguntasRedditColombia['Nombre'] = 'Preguntas reddit colombia'\n",
    "preguntasRedditColombia['location'] = 'doc/preguntasRedditColombia.json'\n",
    "preguntasRedditColombia['logo'] = 'assets/logo/reddit_preguntas_colombia.png'\n",
    "preguntasRedditColombia['background'] = 'assets/background/fondo_colombia.png'\n",
    "\n",
    "preguntasRedditColombia['used_post'] = []\n",
    "preguntasRedditColombia = json.dumps(preguntasRedditColombia)\n",
    "with open('doc/preguntasRedditColombia.json','w') as f:\n",
    "    f.write(preguntasRedditColombia)"
   ]
  },
  {
   "cell_type": "code",
   "execution_count": 6,
   "metadata": {},
   "outputs": [
    {
     "output_type": "execute_result",
     "data": {
      "text/plain": [
       "[1]"
      ]
     },
     "metadata": {},
     "execution_count": 6
    }
   ],
   "source": [
    "a =list(range(3))\n",
    "b = [0,2]\n",
    "c = [i for i in a if i not in b]\n",
    "c"
   ]
  },
  {
   "cell_type": "code",
   "execution_count": 3,
   "metadata": {},
   "outputs": [],
   "source": [
    "import time,requests,uuid\n",
    "time.sleep(10)\n",
    "subscriptionAzure=\"07d815d334e24017a39e761b2a5c3e08\"\n",
    "endpoint = \"https://api.cognitive.microsofttranslator.com\"\n",
    "region=\"southcentralus\"\n",
    "path = '/translate'\n",
    "constructed_url = endpoint + path\n",
    "params = {\n",
    "'api-version': '3.0',\n",
    "'from': 'en',\n",
    "'to': 'es'\n",
    "}\n",
    "headers = {\n",
    "'Ocp-Apim-Subscription-Key': subscriptionAzure,\n",
    "'Ocp-Apim-Subscription-Region': region,\n",
    "'Content-type': 'application/json',\n",
    "'X-ClientTraceId': str(uuid.uuid4())\n",
    "}\n",
    "body = [{'text':'are you a potato'}]\n",
    "request = requests.post(constructed_url, params=params, headers=headers, json=body)\n",
    "response = request.json()\n"
   ]
  },
  {
   "cell_type": "code",
   "execution_count": 14,
   "metadata": {},
   "outputs": [
    {
     "output_type": "execute_result",
     "data": {
      "text/plain": [
       "'eres una patata'"
      ]
     },
     "metadata": {},
     "execution_count": 14
    }
   ],
   "source": [
    "response[0]['translations'][0]['text']"
   ]
  },
  {
   "cell_type": "code",
   "execution_count": 9,
   "metadata": {},
   "outputs": [
    {
     "output_type": "execute_result",
     "data": {
      "text/plain": [
       "str"
      ]
     },
     "metadata": {},
     "execution_count": 9
    }
   ],
   "source": [
    "from datetime import date\n",
    "today = date.today().strftime(\"%d/%m/%Y\")\n",
    "type(today)"
   ]
  },
  {
   "cell_type": "code",
   "execution_count": null,
   "metadata": {},
   "outputs": [],
   "source": []
  }
 ]
}